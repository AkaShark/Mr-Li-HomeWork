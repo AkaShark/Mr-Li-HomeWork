{
 "metadata": {
  "language_info": {
   "codemirror_mode": {
    "name": "ipython",
    "version": 3
   },
   "file_extension": ".py",
   "mimetype": "text/x-python",
   "name": "python",
   "nbconvert_exporter": "python",
   "pygments_lexer": "ipython3",
   "version": "3.6.12-final"
  },
  "orig_nbformat": 2,
  "kernelspec": {
   "name": "python3",
   "display_name": "Python 3"
  }
 },
 "nbformat": 4,
 "nbformat_minor": 2,
 "cells": [
  {
   "source": [
    "# HomeWord 1 : Linear Regression\n",
    "本次实验的目标： 由前9个小时的18个特征预测第10个小时的PM2.5\n",
    "[参考](https://colab.research.google.com/drive/131sSqmrmWXfjFZ3jWSELl8cm0Ox5ah3C#scrollTo=NzvXP5Jya64j)"
   ],
   "cell_type": "markdown",
   "metadata": {}
  },
  {
   "cell_type": "code",
   "execution_count": 80,
   "metadata": {},
   "outputs": [],
   "source": [
    "import sys\n",
    "import pandas as pd\n",
    "import numpy as np\n",
    "from  tqdm import tqdm"
   ]
  },
  {
   "source": [
    "## Preprocssing 数据预处理\n",
    "取需要的数值部分，将'RAINFALL'全部设置为0"
   ],
   "cell_type": "markdown",
   "metadata": {}
  },
  {
   "cell_type": "code",
   "execution_count": 82,
   "metadata": {},
   "outputs": [],
   "source": [
    "data = pd.read_csv('./train.csv', encoding='big5')"
   ]
  },
  {
   "cell_type": "code",
   "execution_count": 84,
   "metadata": {},
   "outputs": [
    {
     "output_type": "execute_result",
     "data": {
      "text/plain": [
       "         日期  測站        測項     0     1     2     3     4     5     6  ...  \\\n",
       "0  2014/1/1  豐原  AMB_TEMP    14    14    14    13    12    12    12  ...   \n",
       "1  2014/1/1  豐原       CH4   1.8   1.8   1.8   1.8   1.8   1.8   1.8  ...   \n",
       "2  2014/1/1  豐原        CO  0.51  0.41  0.39  0.37  0.35   0.3  0.37  ...   \n",
       "3  2014/1/1  豐原      NMHC   0.2  0.15  0.13  0.12  0.11  0.06   0.1  ...   \n",
       "4  2014/1/1  豐原        NO   0.9   0.6   0.5   1.7   1.8   1.5   1.9  ...   \n",
       "\n",
       "     14    15    16    17    18    19    20    21    22    23  \n",
       "0    22    22    21    19    17    16    15    15    15    15  \n",
       "1   1.8   1.8   1.8   1.8   1.8   1.8   1.8   1.8   1.8   1.8  \n",
       "2  0.37  0.37  0.47  0.69  0.56  0.45  0.38  0.35  0.36  0.32  \n",
       "3   0.1  0.13  0.14  0.23  0.18  0.12   0.1  0.09   0.1  0.08  \n",
       "4   2.5   2.2   2.5   2.3   2.1   1.9   1.5   1.6   1.8   1.5  \n",
       "\n",
       "[5 rows x 27 columns]"
      ],
      "text/html": "<div>\n<style scoped>\n    .dataframe tbody tr th:only-of-type {\n        vertical-align: middle;\n    }\n\n    .dataframe tbody tr th {\n        vertical-align: top;\n    }\n\n    .dataframe thead th {\n        text-align: right;\n    }\n</style>\n<table border=\"1\" class=\"dataframe\">\n  <thead>\n    <tr style=\"text-align: right;\">\n      <th></th>\n      <th>日期</th>\n      <th>測站</th>\n      <th>測項</th>\n      <th>0</th>\n      <th>1</th>\n      <th>2</th>\n      <th>3</th>\n      <th>4</th>\n      <th>5</th>\n      <th>6</th>\n      <th>...</th>\n      <th>14</th>\n      <th>15</th>\n      <th>16</th>\n      <th>17</th>\n      <th>18</th>\n      <th>19</th>\n      <th>20</th>\n      <th>21</th>\n      <th>22</th>\n      <th>23</th>\n    </tr>\n  </thead>\n  <tbody>\n    <tr>\n      <th>0</th>\n      <td>2014/1/1</td>\n      <td>豐原</td>\n      <td>AMB_TEMP</td>\n      <td>14</td>\n      <td>14</td>\n      <td>14</td>\n      <td>13</td>\n      <td>12</td>\n      <td>12</td>\n      <td>12</td>\n      <td>...</td>\n      <td>22</td>\n      <td>22</td>\n      <td>21</td>\n      <td>19</td>\n      <td>17</td>\n      <td>16</td>\n      <td>15</td>\n      <td>15</td>\n      <td>15</td>\n      <td>15</td>\n    </tr>\n    <tr>\n      <th>1</th>\n      <td>2014/1/1</td>\n      <td>豐原</td>\n      <td>CH4</td>\n      <td>1.8</td>\n      <td>1.8</td>\n      <td>1.8</td>\n      <td>1.8</td>\n      <td>1.8</td>\n      <td>1.8</td>\n      <td>1.8</td>\n      <td>...</td>\n      <td>1.8</td>\n      <td>1.8</td>\n      <td>1.8</td>\n      <td>1.8</td>\n      <td>1.8</td>\n      <td>1.8</td>\n      <td>1.8</td>\n      <td>1.8</td>\n      <td>1.8</td>\n      <td>1.8</td>\n    </tr>\n    <tr>\n      <th>2</th>\n      <td>2014/1/1</td>\n      <td>豐原</td>\n      <td>CO</td>\n      <td>0.51</td>\n      <td>0.41</td>\n      <td>0.39</td>\n      <td>0.37</td>\n      <td>0.35</td>\n      <td>0.3</td>\n      <td>0.37</td>\n      <td>...</td>\n      <td>0.37</td>\n      <td>0.37</td>\n      <td>0.47</td>\n      <td>0.69</td>\n      <td>0.56</td>\n      <td>0.45</td>\n      <td>0.38</td>\n      <td>0.35</td>\n      <td>0.36</td>\n      <td>0.32</td>\n    </tr>\n    <tr>\n      <th>3</th>\n      <td>2014/1/1</td>\n      <td>豐原</td>\n      <td>NMHC</td>\n      <td>0.2</td>\n      <td>0.15</td>\n      <td>0.13</td>\n      <td>0.12</td>\n      <td>0.11</td>\n      <td>0.06</td>\n      <td>0.1</td>\n      <td>...</td>\n      <td>0.1</td>\n      <td>0.13</td>\n      <td>0.14</td>\n      <td>0.23</td>\n      <td>0.18</td>\n      <td>0.12</td>\n      <td>0.1</td>\n      <td>0.09</td>\n      <td>0.1</td>\n      <td>0.08</td>\n    </tr>\n    <tr>\n      <th>4</th>\n      <td>2014/1/1</td>\n      <td>豐原</td>\n      <td>NO</td>\n      <td>0.9</td>\n      <td>0.6</td>\n      <td>0.5</td>\n      <td>1.7</td>\n      <td>1.8</td>\n      <td>1.5</td>\n      <td>1.9</td>\n      <td>...</td>\n      <td>2.5</td>\n      <td>2.2</td>\n      <td>2.5</td>\n      <td>2.3</td>\n      <td>2.1</td>\n      <td>1.9</td>\n      <td>1.5</td>\n      <td>1.6</td>\n      <td>1.8</td>\n      <td>1.5</td>\n    </tr>\n  </tbody>\n</table>\n<p>5 rows × 27 columns</p>\n</div>"
     },
     "metadata": {},
     "execution_count": 84
    }
   ],
   "source": [
    "data.head()"
   ]
  },
  {
   "cell_type": "code",
   "execution_count": 86,
   "metadata": {},
   "outputs": [],
   "source": [
    "# 抛去数据的前三列不要了\n",
    "data = data.iloc[:, 3:]\n",
    "# 将为NR的数据变为 0\n",
    "data[data == 'NR'] = 0\n",
    "raw_data = data.to_numpy()"
   ]
  },
  {
   "source": [
    "## Extract Features 特征提取 - 1 \n",
    "将原始的4320*18的资料依照每个月组成12个月 18*480的数据类型(12*18*480) 其中18是feature 480 是 20*24 得来的"
   ],
   "cell_type": "markdown",
   "metadata": {}
  },
  {
   "cell_type": "code",
   "execution_count": 88,
   "metadata": {},
   "outputs": [],
   "source": [
    "month_data = {}\n",
    "for month in range(12):\n",
    "    sample = np.empty([18, 480]) # 创建一个空样本大小为18*480\n",
    "    for day in range(20): # 一个月只取了20天\n",
    "        # 从raw_data中取数据 将数据填充进 sample\n",
    "        sample[:, day * 24 : (day + 1) * 24] = raw_data[18 * (20 * month + day) : 18 * (20 * month + day + 1), :]\n",
    "    month_data[month] = sample"
   ]
  },
  {
   "source": [
    "## Extract Features 特征提取 - 2\n",
    "每个月有480小时，每9个小时为一个data，每个月会有471个data，故总资料数为471\\*12笔，而每笔数据有9\\*18的feature(一个小时18个feature)\n",
    "\n",
    "对应的target则有471 * 12 个 （第10个小时的PM2.5）"
   ],
   "cell_type": "markdown",
   "metadata": {}
  },
  {
   "cell_type": "code",
   "execution_count": 90,
   "metadata": {},
   "outputs": [],
   "source": [
    "# 定义输入输出的大小\n",
    "x = np.empty([12 * 471, 18 * 9], dtype=float)\n",
    "y = np.empty([12 * 471, 1], dtype = float)\n",
    "\n",
    "for month in range(12):\n",
    "    for day in range(20):\n",
    "        for hour in range(24):\n",
    "            # 防止今天的数据跑到明天去\n",
    "            if day == 19 and hour > 14:\n",
    "                continue\n",
    "            # 输入的sample大小为9*18\n",
    "            x[month * 471 + day * 24 + hour, :] = month_data[month][:,day * 24 + hour : day * 24 + hour + 9].reshape(1,-1)\n",
    "            y[month * 471 + day + hour, 0] = month_data[month][9, day * 24 + hour + 9]\n"
   ]
  },
  {
   "source": [
    "## Normalize 归一化"
   ],
   "cell_type": "markdown",
   "metadata": {}
  },
  {
   "cell_type": "code",
   "execution_count": 92,
   "metadata": {},
   "outputs": [],
   "source": [
    "mean_x = np.mean(x, axis=0)\n",
    "std_x = np.std(x, axis= 0)\n",
    "for i in range(len(x)):\n",
    "    for j in range(len(x[0])):\n",
    "        if std_x[j] != 0:\n",
    "            x[i][j] = (x[i][j] - mean_x[j]) / std_x[j]"
   ]
  },
  {
   "source": [
    "上面的数据处理部分已懵逼！ 需要再看看咋做的 并想为啥这样操作\n",
    "\n",
    "## Split Training Data Into \"train_set\" and \"validation_set\"\n",
    "生成训练用的数据集train_set和验证数据局validation_set\n",
    "\n"
   ],
   "cell_type": "markdown",
   "metadata": {}
  },
  {
   "cell_type": "code",
   "execution_count": 93,
   "metadata": {},
   "outputs": [],
   "source": [
    "import math\n",
    "# floor() 返回数字的下舍整数。 取百分之80做训练集 剩下的 百分之20做测试集\n",
    "x_train_set = x[: math.floor(len(x) * 0.8), :]\n",
    "y_train_set = y[: math.floor(len(y) * 0.8), :]\n",
    "x_validation = x[math.floor(len(x) * 0.8):, :]\n",
    "y_validation = y[math.floor(len(x) * 0.8):, :]"
   ]
  },
  {
   "source": [
    "## Training\n",
    "使用Adagrad算法作为优化器\n"
   ],
   "cell_type": "markdown",
   "metadata": {}
  },
  {
   "cell_type": "code",
   "execution_count": 94,
   "metadata": {},
   "outputs": [
    {
     "output_type": "stream",
     "name": "stderr",
     "text": [
      "100%|██████████| 10000/10000 [00:09<00:00, 1076.92it/s]\n",
      "Loss:7.730250324025434\n",
      "\n"
     ]
    }
   ],
   "source": [
    "# 因为常数项的存在所以dim要多加一个维度\n",
    "dim = 18 * 9 + 1\n",
    "w = np.zeros([dim, 1])\n",
    "x = np.concatenate((np.ones([12 * 471, 1]), x), axis = 1).astype(float)\n",
    "\n",
    "# 设置学习率\n",
    "learning_rate = 200 \n",
    "# 迭代次数\n",
    "iter_time = 10000\n",
    "# adagrad \n",
    "adagrad = np.zeros([dim, 1])\n",
    "eps = 0.000000001\n",
    "last_loss = 0\n",
    "for t in tqdm(range(iter_time)):\n",
    "    # rmse\n",
    "    loss = np.sqrt(np.sum(np.power(np.dot(x, w) - y, 2))/471/12)         \n",
    "    last_loss = loss\n",
    "    # 计算梯度 这里的梯度怎么算的?? \n",
    "    gradient = 2 * np.dot(x.transpose(), np.dot(x, w) - y)\n",
    "    # adgrade 一路走来的梯度平方和  \n",
    "    adagrad += gradient ** 2\n",
    "    # 更新参数 adgeade \n",
    "    w = w - learning_rate * gradient / np.sqrt(adagrad + eps)\n",
    "\n",
    "print(\"\\n\" + \"Loss:\" + str(last_loss))\n",
    "# 保存权重\n",
    "np.save('weight.npy', w)"
   ]
  },
  {
   "source": [
    "## Testing\n",
    "导入test data 并且以训练集的方式预处理，使得测试数据形成240个维度为18\\*9+1"
   ],
   "cell_type": "markdown",
   "metadata": {}
  },
  {
   "cell_type": "code",
   "execution_count": 95,
   "metadata": {},
   "outputs": [],
   "source": [
    "testdata = pd.read_csv('./test.csv', header = None, encoding = 'big5')\n",
    "test_data = testdata.iloc[:, 2:]\n",
    "test_data[test_data == 'NR'] = 0\n",
    "test_data = test_data.to_numpy()\n",
    "test_x = np.empty([240, 18*9], dtype = float)\n",
    "for i in range(240):\n",
    "    test_x[i, :] = test_data[18 * i: 18* (i + 1), :].reshape(1, -1)\n",
    "\n",
    "# 归一化\n",
    "for i in range(len(test_x)):\n",
    "    for j in range(len(test_x[0])):\n",
    "        if std_x[j] != 0:\n",
    "            test_x[i][j] = (test_x[i][j] - mean_x[j]) / std_x[j]\n",
    "test_x = np.concatenate((np.ones([240, 1]), test_x), axis = 1).astype(float)"
   ]
  },
  {
   "source": [
    "## Prediction \n",
    "\n"
   ],
   "cell_type": "markdown",
   "metadata": {}
  },
  {
   "cell_type": "code",
   "execution_count": 96,
   "metadata": {},
   "outputs": [],
   "source": [
    "# 导入权重\n",
    "w = np.load('weight.npy')\n",
    "# 解决输出\n",
    "ans_y = np.dot(test_x, w)"
   ]
  },
  {
   "source": [
    "## Save Prediction to CSV File"
   ],
   "cell_type": "markdown",
   "metadata": {}
  },
  {
   "cell_type": "code",
   "execution_count": 97,
   "metadata": {},
   "outputs": [],
   "source": [
    "import csv\n",
    "with open('prediction.csv', mode='w', newline='') as prediction_file:\n",
    "    csv_writer = csv.writer(prediction_file)\n",
    "    header = ['id', 'value']\n",
    "    csv_writer.writerow(header)\n",
    "    for i in range(240):\n",
    "        row = ['id_' + str(i), ans_y[i][0]]\n",
    "        csv_writer.writerow(row)"
   ]
  },
  {
   "source": [
    "## 总结\n",
    "结果好像不是很好哎，因为预测的pm2.5的值竟然有负数！！ 这是不可能的啊\n",
    "如何优化呢， 选择不同的优化器，是不用同的model（LSTM）"
   ],
   "cell_type": "markdown",
   "metadata": {}
  },
  {
   "cell_type": "code",
   "execution_count": 98,
   "metadata": {},
   "outputs": [
    {
     "output_type": "execute_result",
     "data": {
      "text/plain": [
       "0.15416666666666667"
      ]
     },
     "metadata": {},
     "execution_count": 98
    }
   ],
   "source": [
    "count = 0\n",
    "for i in range(len(ans_y)):\n",
    "    if (ans_y[i] < 0):\n",
    "        count += 1\n",
    "\n",
    "count/len(ans_y)"
   ]
  },
  {
   "cell_type": "code",
   "execution_count": null,
   "metadata": {},
   "outputs": [],
   "source": []
  }
 ]
}